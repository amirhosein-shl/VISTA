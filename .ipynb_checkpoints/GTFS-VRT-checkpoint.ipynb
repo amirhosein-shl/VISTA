{
 "cells": [
  {
   "cell_type": "code",
   "execution_count": null,
   "id": "bcf054cd",
   "metadata": {},
   "outputs": [],
   "source": [
    "import pandas as pd\n",
    "import matplotlib.pyplot as plt\n",
    "\n",
    "type(shapes_df)\n",
    "\n",
    "shapes_df = pd.read_csv('data/vrt_transit1/shapes.txt')\n",
    "routes_df = pd.read_csv('data/vrt_transit1/routes.txt')\n",
    "\n",
    "shapes_df.columns\n",
    "routes_df.columns\n",
    "\n",
    "shapes_df.filter(eta_pattern_id)\n",
    "\n",
    "shapes_df[shapes_df.eta_pattern_id == \"2\", : ]\n",
    "\n",
    "plt.scatter(shapes_df_filter.shape_pt_lat, shapes_df_filter.shape_pt_lon, s = 0.1, c = shapes_df_filter.eta_pattern_id)"
   ]
  }
 ],
 "metadata": {
  "kernelspec": {
   "display_name": "Python 3 (ipykernel)",
   "language": "python",
   "name": "python3"
  },
  "language_info": {
   "codemirror_mode": {
    "name": "ipython",
    "version": 3
   },
   "file_extension": ".py",
   "mimetype": "text/x-python",
   "name": "python",
   "nbconvert_exporter": "python",
   "pygments_lexer": "ipython3",
   "version": "3.11.5"
  }
 },
 "nbformat": 4,
 "nbformat_minor": 5
}
